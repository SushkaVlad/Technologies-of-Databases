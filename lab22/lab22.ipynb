{
 "cells": [
  {
   "cell_type": "code",
   "execution_count": 1,
   "id": "194e4b08",
   "metadata": {},
   "outputs": [],
   "source": [
    "import pandas as pd\n",
    "import numpy as np\n",
    "import matplotlib.pyplot as plt\n",
    "from sklearn import preprocessing as prproc\n",
    "from sklearn.model_selection import train_test_split\n",
    "from sklearn import tree\n",
    "from sklearn import svm\n",
    "from sklearn.metrics import roc_curve, auc, roc_auc_score\n",
    "from sklearn.metrics import classification_report\n",
    "from sklearn import svm"
   ]
  },
  {
   "cell_type": "code",
   "execution_count": 2,
   "id": "d613d5ac",
   "metadata": {},
   "outputs": [
    {
     "data": {
      "text/html": [
       "<div>\n",
       "<style scoped>\n",
       "    .dataframe tbody tr th:only-of-type {\n",
       "        vertical-align: middle;\n",
       "    }\n",
       "\n",
       "    .dataframe tbody tr th {\n",
       "        vertical-align: top;\n",
       "    }\n",
       "\n",
       "    .dataframe thead th {\n",
       "        text-align: right;\n",
       "    }\n",
       "</style>\n",
       "<table border=\"1\" class=\"dataframe\">\n",
       "  <thead>\n",
       "    <tr style=\"text-align: right;\">\n",
       "      <th></th>\n",
       "      <th>FixedAcidity</th>\n",
       "      <th>VolatileAcidity</th>\n",
       "      <th>CitricAcid</th>\n",
       "      <th>ResidualSugar</th>\n",
       "      <th>Chlorides</th>\n",
       "      <th>FreeSulfurDioxide</th>\n",
       "      <th>TotalSulfurDioxide</th>\n",
       "      <th>Density</th>\n",
       "      <th>PH</th>\n",
       "      <th>Sulphates</th>\n",
       "      <th>Alcohol</th>\n",
       "      <th>Quality</th>\n",
       "    </tr>\n",
       "  </thead>\n",
       "  <tbody>\n",
       "    <tr>\n",
       "      <th>0</th>\n",
       "      <td>7.0</td>\n",
       "      <td>0.27</td>\n",
       "      <td>0.36</td>\n",
       "      <td>20.7</td>\n",
       "      <td>0.045</td>\n",
       "      <td>45.0</td>\n",
       "      <td>170.0</td>\n",
       "      <td>1.0010</td>\n",
       "      <td>3.00</td>\n",
       "      <td>0.45</td>\n",
       "      <td>8.8</td>\n",
       "      <td>6</td>\n",
       "    </tr>\n",
       "    <tr>\n",
       "      <th>1</th>\n",
       "      <td>6.3</td>\n",
       "      <td>0.30</td>\n",
       "      <td>0.34</td>\n",
       "      <td>1.6</td>\n",
       "      <td>0.049</td>\n",
       "      <td>14.0</td>\n",
       "      <td>132.0</td>\n",
       "      <td>0.9940</td>\n",
       "      <td>3.30</td>\n",
       "      <td>0.49</td>\n",
       "      <td>9.5</td>\n",
       "      <td>6</td>\n",
       "    </tr>\n",
       "    <tr>\n",
       "      <th>2</th>\n",
       "      <td>8.1</td>\n",
       "      <td>0.28</td>\n",
       "      <td>0.40</td>\n",
       "      <td>6.9</td>\n",
       "      <td>0.050</td>\n",
       "      <td>30.0</td>\n",
       "      <td>97.0</td>\n",
       "      <td>0.9951</td>\n",
       "      <td>3.26</td>\n",
       "      <td>0.44</td>\n",
       "      <td>10.1</td>\n",
       "      <td>6</td>\n",
       "    </tr>\n",
       "    <tr>\n",
       "      <th>3</th>\n",
       "      <td>7.2</td>\n",
       "      <td>0.23</td>\n",
       "      <td>0.32</td>\n",
       "      <td>8.5</td>\n",
       "      <td>0.058</td>\n",
       "      <td>47.0</td>\n",
       "      <td>186.0</td>\n",
       "      <td>0.9956</td>\n",
       "      <td>3.19</td>\n",
       "      <td>0.40</td>\n",
       "      <td>9.9</td>\n",
       "      <td>6</td>\n",
       "    </tr>\n",
       "    <tr>\n",
       "      <th>4</th>\n",
       "      <td>7.2</td>\n",
       "      <td>0.23</td>\n",
       "      <td>0.32</td>\n",
       "      <td>8.5</td>\n",
       "      <td>0.058</td>\n",
       "      <td>47.0</td>\n",
       "      <td>186.0</td>\n",
       "      <td>0.9956</td>\n",
       "      <td>3.19</td>\n",
       "      <td>0.40</td>\n",
       "      <td>9.9</td>\n",
       "      <td>6</td>\n",
       "    </tr>\n",
       "  </tbody>\n",
       "</table>\n",
       "</div>"
      ],
      "text/plain": [
       "   FixedAcidity  VolatileAcidity  CitricAcid  ResidualSugar  Chlorides  \\\n",
       "0           7.0             0.27        0.36           20.7      0.045   \n",
       "1           6.3             0.30        0.34            1.6      0.049   \n",
       "2           8.1             0.28        0.40            6.9      0.050   \n",
       "3           7.2             0.23        0.32            8.5      0.058   \n",
       "4           7.2             0.23        0.32            8.5      0.058   \n",
       "\n",
       "   FreeSulfurDioxide  TotalSulfurDioxide  Density    PH  Sulphates  Alcohol  \\\n",
       "0               45.0               170.0   1.0010  3.00       0.45      8.8   \n",
       "1               14.0               132.0   0.9940  3.30       0.49      9.5   \n",
       "2               30.0                97.0   0.9951  3.26       0.44     10.1   \n",
       "3               47.0               186.0   0.9956  3.19       0.40      9.9   \n",
       "4               47.0               186.0   0.9956  3.19       0.40      9.9   \n",
       "\n",
       "   Quality  \n",
       "0        6  \n",
       "1        6  \n",
       "2        6  \n",
       "3        6  \n",
       "4        6  "
      ]
     },
     "execution_count": 2,
     "metadata": {},
     "output_type": "execute_result"
    }
   ],
   "source": [
    "data = pd.read_csv('winequality-white.dat', sep = \",\")\n",
    "data.head()"
   ]
  },
  {
   "cell_type": "code",
   "execution_count": 3,
   "id": "dd42a1d6",
   "metadata": {},
   "outputs": [
    {
     "data": {
      "text/html": [
       "<div>\n",
       "<style scoped>\n",
       "    .dataframe tbody tr th:only-of-type {\n",
       "        vertical-align: middle;\n",
       "    }\n",
       "\n",
       "    .dataframe tbody tr th {\n",
       "        vertical-align: top;\n",
       "    }\n",
       "\n",
       "    .dataframe thead th {\n",
       "        text-align: right;\n",
       "    }\n",
       "</style>\n",
       "<table border=\"1\" class=\"dataframe\">\n",
       "  <thead>\n",
       "    <tr style=\"text-align: right;\">\n",
       "      <th></th>\n",
       "      <th>FixedAcidity</th>\n",
       "      <th>VolatileAcidity</th>\n",
       "      <th>CitricAcid</th>\n",
       "      <th>ResidualSugar</th>\n",
       "      <th>Chlorides</th>\n",
       "      <th>FreeSulfurDioxide</th>\n",
       "      <th>TotalSulfurDioxide</th>\n",
       "      <th>Density</th>\n",
       "      <th>PH</th>\n",
       "      <th>Sulphates</th>\n",
       "      <th>Alcohol</th>\n",
       "      <th>Quality</th>\n",
       "    </tr>\n",
       "  </thead>\n",
       "  <tbody>\n",
       "    <tr>\n",
       "      <th>0</th>\n",
       "      <td>0.172097</td>\n",
       "      <td>-0.081770</td>\n",
       "      <td>0.213280</td>\n",
       "      <td>2.821349</td>\n",
       "      <td>-0.035355</td>\n",
       "      <td>0.569932</td>\n",
       "      <td>0.744565</td>\n",
       "      <td>2.331512</td>\n",
       "      <td>-1.246921</td>\n",
       "      <td>-0.349184</td>\n",
       "      <td>-1.393152</td>\n",
       "      <td>6</td>\n",
       "    </tr>\n",
       "    <tr>\n",
       "      <th>1</th>\n",
       "      <td>-0.657501</td>\n",
       "      <td>0.215896</td>\n",
       "      <td>0.048001</td>\n",
       "      <td>-0.944765</td>\n",
       "      <td>0.147747</td>\n",
       "      <td>-1.253019</td>\n",
       "      <td>-0.149685</td>\n",
       "      <td>-0.009154</td>\n",
       "      <td>0.740029</td>\n",
       "      <td>0.001342</td>\n",
       "      <td>-0.824276</td>\n",
       "      <td>6</td>\n",
       "    </tr>\n",
       "    <tr>\n",
       "      <th>2</th>\n",
       "      <td>1.475751</td>\n",
       "      <td>0.017452</td>\n",
       "      <td>0.543838</td>\n",
       "      <td>0.100282</td>\n",
       "      <td>0.193523</td>\n",
       "      <td>-0.312141</td>\n",
       "      <td>-0.973336</td>\n",
       "      <td>0.358665</td>\n",
       "      <td>0.475102</td>\n",
       "      <td>-0.436816</td>\n",
       "      <td>-0.336667</td>\n",
       "      <td>6</td>\n",
       "    </tr>\n",
       "    <tr>\n",
       "      <th>3</th>\n",
       "      <td>0.409125</td>\n",
       "      <td>-0.478657</td>\n",
       "      <td>-0.117278</td>\n",
       "      <td>0.415768</td>\n",
       "      <td>0.559727</td>\n",
       "      <td>0.687541</td>\n",
       "      <td>1.121091</td>\n",
       "      <td>0.525855</td>\n",
       "      <td>0.011480</td>\n",
       "      <td>-0.787342</td>\n",
       "      <td>-0.499203</td>\n",
       "      <td>6</td>\n",
       "    </tr>\n",
       "    <tr>\n",
       "      <th>4</th>\n",
       "      <td>0.409125</td>\n",
       "      <td>-0.478657</td>\n",
       "      <td>-0.117278</td>\n",
       "      <td>0.415768</td>\n",
       "      <td>0.559727</td>\n",
       "      <td>0.687541</td>\n",
       "      <td>1.121091</td>\n",
       "      <td>0.525855</td>\n",
       "      <td>0.011480</td>\n",
       "      <td>-0.787342</td>\n",
       "      <td>-0.499203</td>\n",
       "      <td>6</td>\n",
       "    </tr>\n",
       "  </tbody>\n",
       "</table>\n",
       "</div>"
      ],
      "text/plain": [
       "   FixedAcidity  VolatileAcidity  CitricAcid  ResidualSugar  Chlorides  \\\n",
       "0      0.172097        -0.081770    0.213280       2.821349  -0.035355   \n",
       "1     -0.657501         0.215896    0.048001      -0.944765   0.147747   \n",
       "2      1.475751         0.017452    0.543838       0.100282   0.193523   \n",
       "3      0.409125        -0.478657   -0.117278       0.415768   0.559727   \n",
       "4      0.409125        -0.478657   -0.117278       0.415768   0.559727   \n",
       "\n",
       "   FreeSulfurDioxide  TotalSulfurDioxide   Density        PH  Sulphates  \\\n",
       "0           0.569932            0.744565  2.331512 -1.246921  -0.349184   \n",
       "1          -1.253019           -0.149685 -0.009154  0.740029   0.001342   \n",
       "2          -0.312141           -0.973336  0.358665  0.475102  -0.436816   \n",
       "3           0.687541            1.121091  0.525855  0.011480  -0.787342   \n",
       "4           0.687541            1.121091  0.525855  0.011480  -0.787342   \n",
       "\n",
       "    Alcohol  Quality  \n",
       "0 -1.393152        6  \n",
       "1 -0.824276        6  \n",
       "2 -0.336667        6  \n",
       "3 -0.499203        6  \n",
       "4 -0.499203        6  "
      ]
     },
     "execution_count": 3,
     "metadata": {},
     "output_type": "execute_result"
    }
   ],
   "source": [
    "scalerStd = prproc.StandardScaler()\n",
    "for i in data.columns[:-1]:\n",
    "    x = scalerStd.fit_transform(data[[i]])\n",
    "    data[i] = x[0:]\n",
    "data.head()"
   ]
  },
  {
   "cell_type": "code",
   "execution_count": 4,
   "id": "e17f09d3",
   "metadata": {},
   "outputs": [],
   "source": [
    "data_train, data_test_val = train_test_split(data, test_size=0.50, stratify = data['Quality'])\n",
    "data_test, data_val = train_test_split(data_test_val, test_size=0.40, stratify = data_test_val['Quality'])\n",
    "\n",
    "x_train = data_train[[\"FixedAcidity\", \"VolatileAcidity\", \"CitricAcid\", \"ResidualSugar\", \"Chlorides\", \"FreeSulfurDioxide\", \"TotalSulfurDioxide\", \"Density\", \"PH\", \"Sulphates\", \"Alcohol\"]]\n",
    "y_train = data_train['Quality']\n",
    "\n",
    "x_test = data_test[[\"FixedAcidity\", \"VolatileAcidity\", \"CitricAcid\", \"ResidualSugar\", \"Chlorides\", \"FreeSulfurDioxide\", \"TotalSulfurDioxide\", \"Density\", \"PH\", \"Sulphates\", \"Alcohol\"]]\n",
    "y_test = data_test['Quality']\n",
    "\n",
    "x_val = data_val[[\"FixedAcidity\", \"VolatileAcidity\", \"CitricAcid\", \"ResidualSugar\", \"Chlorides\", \"FreeSulfurDioxide\", \"TotalSulfurDioxide\", \"Density\", \"PH\", \"Sulphates\", \"Alcohol\"]]\n",
    "y_val = data_val['Quality']"
   ]
  },
  {
   "cell_type": "code",
   "execution_count": 5,
   "id": "e1471458",
   "metadata": {},
   "outputs": [
    {
     "data": {
      "text/plain": [
       "array([6, 5, 7, 8, 4, 3, 9], dtype=int64)"
      ]
     },
     "execution_count": 5,
     "metadata": {},
     "output_type": "execute_result"
    }
   ],
   "source": [
    "data[\"Quality\"].unique()"
   ]
  },
  {
   "cell_type": "code",
   "execution_count": 5,
   "id": "090a78a2",
   "metadata": {},
   "outputs": [
    {
     "name": "stdout",
     "output_type": "stream",
     "text": [
      "linear [0.517358747447243, 'scale', 0, 2, 0.1]\n",
      "sigmoid [0.517358747447243, 'scale', 0, 2, 0.1]\n",
      "rbf [0.5629680054458815, 0.1, 0, 2, 0.5]\n"
     ]
    }
   ],
   "source": [
    "# Нахождение лучших параметров для метода опорных векторов\n",
    " #20, 0.01\n",
    "gammas = ['scale', 'auto', 1, 10, 0.1]\n",
    "#0.1, 0.01\n",
    "coef0s = [0, 1, 2, 5, 10]\n",
    "#4, 5\n",
    "degrees = [2, 3]\n",
    "#1, 2, 10, 20\n",
    "Cs = [0.001, 0.01, 0.1, 0.5]\n",
    "\n",
    "best = [0]\n",
    "for krl in ['linear', 'sigmoid', 'rbf']:\n",
    "    for gamma in gammas:\n",
    "        for coef0 in coef0s:\n",
    "            for degree in degrees:\n",
    "                for C in Cs:\n",
    "                    clf = svm.SVC(kernel = krl, gamma = gamma, coef0 = coef0, degree = degree, C = C)\n",
    "\n",
    "                    clf.fit(x_train, y_train)\n",
    "\n",
    "                    res = clf.predict(x_test)\n",
    "                    score = clf.score(x_test, y_test)\n",
    "\n",
    "                    if score > best[0]:\n",
    "                        best = [score, gamma, coef0, degree, C]\n",
    "    print(krl, best)"
   ]
  },
  {
   "cell_type": "code",
   "execution_count": 6,
   "id": "0635016e",
   "metadata": {},
   "outputs": [
    {
     "name": "stdout",
     "output_type": "stream",
     "text": [
      "[0.5248468345813478, 'entropy', 0.005]\n"
     ]
    }
   ],
   "source": [
    "# Нахождение лучших параметров для дерева\n",
    "criterions = ['gini', 'entropy']\n",
    "alphas = [0.005, 0.01, 0.015, 0.02, 0.25, 0.03, 0.035, 0.2, 0.8]\n",
    "\n",
    "best = [0]\n",
    "for criterion in criterions:\n",
    "    for alpha in alphas:\n",
    "        clf = tree.DecisionTreeClassifier(criterion = criterion, ccp_alpha = alpha)\n",
    "        clf.fit(x_train, y_train)\n",
    "        score = clf.score(x_test, y_test)\n",
    "                    \n",
    "        if score > best[0]:\n",
    "            best = [score, criterion, alpha]\n",
    "#         tree.plot_tree(clf, filled = True, rounded = True)\n",
    "print(best)"
   ]
  },
  {
   "cell_type": "code",
   "execution_count": 7,
   "id": "d7f7b1e4",
   "metadata": {},
   "outputs": [
    {
     "data": {
      "text/plain": [
       "DecisionTreeClassifier(ccp_alpha=0.005, criterion='entropy')"
      ]
     },
     "execution_count": 7,
     "metadata": {},
     "output_type": "execute_result"
    }
   ],
   "source": [
    "clf = svm.SVC(kernel = 'rbf', gamma = 0.1, coef0 = 0, degree = 2, C = 0.5, probability=True)\n",
    "clf.fit(x_train, y_train)\n",
    "\n",
    "clf_tree = tree.DecisionTreeClassifier(criterion = 'entropy', ccp_alpha = 0.005)\n",
    "clf_tree.fit(x_train, y_train)"
   ]
  },
  {
   "cell_type": "code",
   "execution_count": 17,
   "id": "a0e9326b",
   "metadata": {},
   "outputs": [
    {
     "name": "stdout",
     "output_type": "stream",
     "text": [
      "              precision    recall  f1-score   support\n",
      "\n",
      "           3       0.00      0.00      0.00         6\n",
      "           4       0.00      0.00      0.00        49\n",
      "           5       0.59      0.61      0.60       438\n",
      "           6       0.55      0.75      0.63       659\n",
      "           7       0.58      0.24      0.34       264\n",
      "           8       0.00      0.00      0.00        52\n",
      "           9       0.00      0.00      0.00         1\n",
      "\n",
      "    accuracy                           0.56      1469\n",
      "   macro avg       0.25      0.23      0.23      1469\n",
      "weighted avg       0.53      0.56      0.52      1469\n",
      "\n",
      "0.7823523040459468\n"
     ]
    }
   ],
   "source": [
    "# Проверка лучшей SVC с тестовой выборкой\n",
    "res = clf.predict(x_test)\n",
    "print(classification_report(y_test, res, zero_division=0))\n",
    "\n",
    "print(roc_auc_score(y_test, clf.predict_proba(x_test), multi_class='ovo', average='macro'))"
   ]
  },
  {
   "cell_type": "code",
   "execution_count": 15,
   "id": "834c96f8",
   "metadata": {},
   "outputs": [
    {
     "name": "stdout",
     "output_type": "stream",
     "text": [
      "              precision    recall  f1-score   support\n",
      "\n",
      "           3       0.00      0.00      0.00         6\n",
      "           4       0.33      0.02      0.04        49\n",
      "           5       0.54      0.65      0.59       438\n",
      "           6       0.54      0.59      0.56       659\n",
      "           7       0.44      0.36      0.40       264\n",
      "           8       0.57      0.08      0.14        52\n",
      "           9       0.00      0.00      0.00         1\n",
      "\n",
      "    accuracy                           0.52      1469\n",
      "   macro avg       0.35      0.24      0.25      1469\n",
      "weighted avg       0.51      0.52      0.51      1469\n",
      "\n",
      "0.7201687935176676\n"
     ]
    }
   ],
   "source": [
    "# Проверка лучшего дерева с тестовой выборкой\n",
    "res = clf_tree.predict(x_test)\n",
    "print(classification_report(y_test, res, zero_division=0))\n",
    "\n",
    "print(roc_auc_score(y_test, clf_tree.predict_proba(x_test), multi_class='ovo', average='weighted'))"
   ]
  },
  {
   "cell_type": "code",
   "execution_count": 10,
   "id": "4dab33d1",
   "metadata": {},
   "outputs": [
    {
     "name": "stdout",
     "output_type": "stream",
     "text": [
      "              precision    recall  f1-score   support\n",
      "\n",
      "           3       0.00      0.00      0.00         4\n",
      "           4       0.00      0.00      0.00        33\n",
      "           5       0.61      0.60      0.61       291\n",
      "           6       0.55      0.79      0.65       440\n",
      "           7       0.64      0.22      0.33       176\n",
      "           8       0.00      0.00      0.00        35\n",
      "           9       0.00      0.00      0.00         1\n",
      "\n",
      "    accuracy                           0.57       980\n",
      "   macro avg       0.26      0.23      0.23       980\n",
      "weighted avg       0.54      0.57      0.53       980\n",
      "\n",
      "0.7783196211729985\n"
     ]
    }
   ],
   "source": [
    "# Проверка лучшей SVC с валидационной выборкой\n",
    "res = clf.predict(x_val)\n",
    "print(classification_report(y_val, res, zero_division=0))\n",
    "\n",
    "print(roc_auc_score(y_val, clf.predict_proba(x_val), multi_class='ovo', average='macro'))"
   ]
  },
  {
   "cell_type": "code",
   "execution_count": 11,
   "id": "e6a1ab0e",
   "metadata": {},
   "outputs": [
    {
     "name": "stdout",
     "output_type": "stream",
     "text": [
      "              precision    recall  f1-score   support\n",
      "\n",
      "           3       0.00      0.00      0.00         4\n",
      "           4       0.00      0.00      0.00        33\n",
      "           5       0.53      0.69      0.60       291\n",
      "           6       0.54      0.60      0.57       440\n",
      "           7       0.44      0.26      0.33       176\n",
      "           8       0.45      0.14      0.22        35\n",
      "           9       0.00      0.00      0.00         1\n",
      "\n",
      "    accuracy                           0.53       980\n",
      "   macro avg       0.28      0.24      0.24       980\n",
      "weighted avg       0.50      0.53      0.50       980\n",
      "\n",
      "0.7352806018087157\n"
     ]
    }
   ],
   "source": [
    "# Проверка лучшего дерева с валидационной выборкой\n",
    "res = clf_tree.predict(x_val)\n",
    "print(classification_report(y_val, res, zero_division=0))\n",
    "\n",
    "print(roc_auc_score(y_val, clf_tree.predict_proba(x_val), multi_class='ovo', average='weighted'))"
   ]
  },
  {
   "cell_type": "code",
   "execution_count": null,
   "id": "ec11bb3b",
   "metadata": {},
   "outputs": [],
   "source": []
  },
  {
   "cell_type": "code",
   "execution_count": null,
   "id": "d9493a2e",
   "metadata": {},
   "outputs": [],
   "source": []
  }
 ],
 "metadata": {
  "kernelspec": {
   "display_name": "Python 3 (ipykernel)",
   "language": "python",
   "name": "python3"
  },
  "language_info": {
   "codemirror_mode": {
    "name": "ipython",
    "version": 3
   },
   "file_extension": ".py",
   "mimetype": "text/x-python",
   "name": "python",
   "nbconvert_exporter": "python",
   "pygments_lexer": "ipython3",
   "version": "3.9.7"
  }
 },
 "nbformat": 4,
 "nbformat_minor": 5
}
