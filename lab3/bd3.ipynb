{
 "cells": [
  {
   "cell_type": "code",
   "execution_count": 33,
   "id": "c443d6a8-c688-4641-a621-0cc07d6a0dc6",
   "metadata": {},
   "outputs": [],
   "source": [
    "import numpy as np\n",
    "import pandas as pd\n",
    "import scipy.stats\n",
    "import rpy2.robjects.numpy2ri\n",
    "from rpy2.robjects.packages import importr"
   ]
  },
  {
   "cell_type": "code",
   "execution_count": 34,
   "id": "b88d71de-8466-43db-9949-b7ae58ee6f40",
   "metadata": {},
   "outputs": [
    {
     "data": {
      "text/plain": [
       "0        32000.0\n",
       "1        15000.0\n",
       "2        48000.0\n",
       "3        43000.0\n",
       "4         6000.0\n",
       "          ...   \n",
       "15615    10000.0\n",
       "15616    10000.0\n",
       "15617    48000.0\n",
       "15618    10000.0\n",
       "15619    18000.0\n",
       "Name: Income, Length: 15620, dtype: float64"
      ]
     },
     "execution_count": 34,
     "metadata": {},
     "output_type": "execute_result"
    }
   ],
   "source": [
    "pd.set_option('display.max_columns', 2000)\n",
    "pd.set_option('display.width', 2000)\n",
    "\n",
    "table = pd.read_csv(\"2016-FCC-New-Coders-Survey-Data.csv\", sep=\",\", \n",
    "                    parse_dates = ['Part1EndTime','Part1StartTime','Part2EndTime','Part2StartTime'],\n",
    "                    dtype = {'CodeEventOther': str,\n",
    "                             'JobRoleInterestOther': str})\n",
    "pd.to_numeric(table['Age'], errors = 'coerce')\n",
    "pd.to_numeric(table['Income'], errors = 'coerce')"
   ]
  },
  {
   "cell_type": "code",
   "execution_count": 35,
   "id": "6fa2d777-16ff-4808-a2f8-be3cd07f5069",
   "metadata": {},
   "outputs": [
    {
     "data": {
      "text/html": [
       "<div>\n",
       "<style scoped>\n",
       "    .dataframe tbody tr th:only-of-type {\n",
       "        vertical-align: middle;\n",
       "    }\n",
       "\n",
       "    .dataframe tbody tr th {\n",
       "        vertical-align: top;\n",
       "    }\n",
       "\n",
       "    .dataframe thead th {\n",
       "        text-align: right;\n",
       "    }\n",
       "</style>\n",
       "<table border=\"1\" class=\"dataframe\">\n",
       "  <thead>\n",
       "    <tr style=\"text-align: right;\">\n",
       "      <th></th>\n",
       "      <th>EmploymentField</th>\n",
       "      <th>EmploymentStatus</th>\n",
       "      <th>Gender</th>\n",
       "      <th>JobPref</th>\n",
       "      <th>JobWherePref</th>\n",
       "      <th>MaritalStatus</th>\n",
       "      <th>Income</th>\n",
       "    </tr>\n",
       "  </thead>\n",
       "  <tbody>\n",
       "    <tr>\n",
       "      <th>0</th>\n",
       "      <td>office and administrative support</td>\n",
       "      <td>Employed for wages</td>\n",
       "      <td>male</td>\n",
       "      <td>freelance</td>\n",
       "      <td>NaN</td>\n",
       "      <td>married or domestic partnership</td>\n",
       "      <td>32000.0</td>\n",
       "    </tr>\n",
       "    <tr>\n",
       "      <th>1</th>\n",
       "      <td>food and beverage</td>\n",
       "      <td>Employed for wages</td>\n",
       "      <td>male</td>\n",
       "      <td>work for a startup</td>\n",
       "      <td>in an office with other developers</td>\n",
       "      <td>NaN</td>\n",
       "      <td>15000.0</td>\n",
       "    </tr>\n",
       "    <tr>\n",
       "      <th>2</th>\n",
       "      <td>finance</td>\n",
       "      <td>Employed for wages</td>\n",
       "      <td>male</td>\n",
       "      <td>start your own business</td>\n",
       "      <td>NaN</td>\n",
       "      <td>NaN</td>\n",
       "      <td>48000.0</td>\n",
       "    </tr>\n",
       "    <tr>\n",
       "      <th>3</th>\n",
       "      <td>arts, entertainment, sports, or media</td>\n",
       "      <td>Employed for wages</td>\n",
       "      <td>female</td>\n",
       "      <td>work for a startup</td>\n",
       "      <td>from home</td>\n",
       "      <td>NaN</td>\n",
       "      <td>43000.0</td>\n",
       "    </tr>\n",
       "    <tr>\n",
       "      <th>4</th>\n",
       "      <td>education</td>\n",
       "      <td>Employed for wages</td>\n",
       "      <td>female</td>\n",
       "      <td>work for a medium-sized company</td>\n",
       "      <td>in an office with other developers</td>\n",
       "      <td>NaN</td>\n",
       "      <td>6000.0</td>\n",
       "    </tr>\n",
       "    <tr>\n",
       "      <th>...</th>\n",
       "      <td>...</td>\n",
       "      <td>...</td>\n",
       "      <td>...</td>\n",
       "      <td>...</td>\n",
       "      <td>...</td>\n",
       "      <td>...</td>\n",
       "      <td>...</td>\n",
       "    </tr>\n",
       "    <tr>\n",
       "      <th>15615</th>\n",
       "      <td>software development and IT</td>\n",
       "      <td>Self-employed freelancer</td>\n",
       "      <td>male</td>\n",
       "      <td>start your own business</td>\n",
       "      <td>NaN</td>\n",
       "      <td>single, never married</td>\n",
       "      <td>10000.0</td>\n",
       "    </tr>\n",
       "    <tr>\n",
       "      <th>15616</th>\n",
       "      <td>software development and IT</td>\n",
       "      <td>Employed for wages</td>\n",
       "      <td>male</td>\n",
       "      <td>work for a startup</td>\n",
       "      <td>in an office with other developers</td>\n",
       "      <td>single, never married</td>\n",
       "      <td>10000.0</td>\n",
       "    </tr>\n",
       "    <tr>\n",
       "      <th>15617</th>\n",
       "      <td>NaN</td>\n",
       "      <td>Self-employed freelancer</td>\n",
       "      <td>male</td>\n",
       "      <td>freelance</td>\n",
       "      <td>NaN</td>\n",
       "      <td>NaN</td>\n",
       "      <td>48000.0</td>\n",
       "    </tr>\n",
       "    <tr>\n",
       "      <th>15618</th>\n",
       "      <td>education</td>\n",
       "      <td>Self-employed freelancer</td>\n",
       "      <td>male</td>\n",
       "      <td>NaN</td>\n",
       "      <td>NaN</td>\n",
       "      <td>NaN</td>\n",
       "      <td>10000.0</td>\n",
       "    </tr>\n",
       "    <tr>\n",
       "      <th>15619</th>\n",
       "      <td>arts, entertainment, sports, or media</td>\n",
       "      <td>Employed for wages</td>\n",
       "      <td>female</td>\n",
       "      <td>freelance</td>\n",
       "      <td>NaN</td>\n",
       "      <td>single, never married</td>\n",
       "      <td>18000.0</td>\n",
       "    </tr>\n",
       "  </tbody>\n",
       "</table>\n",
       "<p>15620 rows × 7 columns</p>\n",
       "</div>"
      ],
      "text/plain": [
       "                             EmploymentField          EmploymentStatus  Gender                          JobPref                        JobWherePref                    MaritalStatus   Income\n",
       "0          office and administrative support        Employed for wages    male                       freelance                                  NaN  married or domestic partnership  32000.0\n",
       "1                          food and beverage        Employed for wages    male               work for a startup  in an office with other developers                              NaN  15000.0\n",
       "2                                    finance        Employed for wages    male          start your own business                                 NaN                              NaN  48000.0\n",
       "3      arts, entertainment, sports, or media        Employed for wages  female               work for a startup                           from home                              NaN  43000.0\n",
       "4                                  education        Employed for wages  female  work for a medium-sized company  in an office with other developers                              NaN   6000.0\n",
       "...                                      ...                       ...     ...                              ...                                 ...                              ...      ...\n",
       "15615            software development and IT  Self-employed freelancer    male          start your own business                                 NaN            single, never married  10000.0\n",
       "15616            software development and IT        Employed for wages    male               work for a startup  in an office with other developers            single, never married  10000.0\n",
       "15617                                    NaN  Self-employed freelancer    male                       freelance                                  NaN                              NaN  48000.0\n",
       "15618                              education  Self-employed freelancer    male                              NaN                                 NaN                              NaN  10000.0\n",
       "15619  arts, entertainment, sports, or media        Employed for wages  female                       freelance                                  NaN            single, never married  18000.0\n",
       "\n",
       "[15620 rows x 7 columns]"
      ]
     },
     "execution_count": 35,
     "metadata": {},
     "output_type": "execute_result"
    }
   ],
   "source": [
    "table = table.loc[:, ['EmploymentField', 'EmploymentStatus', 'Gender', 'JobPref', 'JobWherePref', 'MaritalStatus', 'Income']]\n",
    "table"
   ]
  },
  {
   "cell_type": "code",
   "execution_count": 7,
   "id": "e6c3752f-b9a2-470a-9d33-38be69817446",
   "metadata": {},
   "outputs": [
    {
     "data": {
      "text/html": [
       "<div>\n",
       "<style scoped>\n",
       "    .dataframe tbody tr th:only-of-type {\n",
       "        vertical-align: middle;\n",
       "    }\n",
       "\n",
       "    .dataframe tbody tr th {\n",
       "        vertical-align: top;\n",
       "    }\n",
       "\n",
       "    .dataframe thead th {\n",
       "        text-align: right;\n",
       "    }\n",
       "</style>\n",
       "<table border=\"1\" class=\"dataframe\">\n",
       "  <thead>\n",
       "    <tr style=\"text-align: right;\">\n",
       "      <th></th>\n",
       "      <th>EmploymentField</th>\n",
       "      <th>EmploymentStatus</th>\n",
       "      <th>Gender</th>\n",
       "      <th>JobPref</th>\n",
       "      <th>JobWherePref</th>\n",
       "      <th>MaritalStatus</th>\n",
       "      <th>Income</th>\n",
       "    </tr>\n",
       "  </thead>\n",
       "  <tbody>\n",
       "    <tr>\n",
       "      <th>59</th>\n",
       "      <td>software development</td>\n",
       "      <td>Employed for wages</td>\n",
       "      <td>male</td>\n",
       "      <td>work for a medium-sized company</td>\n",
       "      <td>in an office with other developers</td>\n",
       "      <td>married or domestic partnership</td>\n",
       "      <td>35000.0</td>\n",
       "    </tr>\n",
       "    <tr>\n",
       "      <th>71</th>\n",
       "      <td>education</td>\n",
       "      <td>Employed for wages</td>\n",
       "      <td>male</td>\n",
       "      <td>work for a multinational corporation</td>\n",
       "      <td>from home</td>\n",
       "      <td>married or domestic partnership</td>\n",
       "      <td>56000.0</td>\n",
       "    </tr>\n",
       "    <tr>\n",
       "      <th>72</th>\n",
       "      <td>transportation</td>\n",
       "      <td>Employed for wages</td>\n",
       "      <td>male</td>\n",
       "      <td>work for a medium-sized company</td>\n",
       "      <td>from home</td>\n",
       "      <td>married or domestic partnership</td>\n",
       "      <td>35000.0</td>\n",
       "    </tr>\n",
       "    <tr>\n",
       "      <th>77</th>\n",
       "      <td>arts, entertainment, sports, or media</td>\n",
       "      <td>Employed for wages</td>\n",
       "      <td>male</td>\n",
       "      <td>work for a medium-sized company</td>\n",
       "      <td>from home</td>\n",
       "      <td>married or domestic partnership</td>\n",
       "      <td>65000.0</td>\n",
       "    </tr>\n",
       "    <tr>\n",
       "      <th>90</th>\n",
       "      <td>sales</td>\n",
       "      <td>Employed for wages</td>\n",
       "      <td>male</td>\n",
       "      <td>work for a startup</td>\n",
       "      <td>in an office with other developers</td>\n",
       "      <td>single, never married</td>\n",
       "      <td>30000.0</td>\n",
       "    </tr>\n",
       "    <tr>\n",
       "      <th>...</th>\n",
       "      <td>...</td>\n",
       "      <td>...</td>\n",
       "      <td>...</td>\n",
       "      <td>...</td>\n",
       "      <td>...</td>\n",
       "      <td>...</td>\n",
       "      <td>...</td>\n",
       "    </tr>\n",
       "    <tr>\n",
       "      <th>15564</th>\n",
       "      <td>finance</td>\n",
       "      <td>Employed for wages</td>\n",
       "      <td>male</td>\n",
       "      <td>work for a medium-sized company</td>\n",
       "      <td>in an office with other developers</td>\n",
       "      <td>married or domestic partnership</td>\n",
       "      <td>200000.0</td>\n",
       "    </tr>\n",
       "    <tr>\n",
       "      <th>15566</th>\n",
       "      <td>finance</td>\n",
       "      <td>Employed for wages</td>\n",
       "      <td>male</td>\n",
       "      <td>work for a startup</td>\n",
       "      <td>no preference</td>\n",
       "      <td>married or domestic partnership</td>\n",
       "      <td>200000.0</td>\n",
       "    </tr>\n",
       "    <tr>\n",
       "      <th>15584</th>\n",
       "      <td>software development and IT</td>\n",
       "      <td>Employed for wages</td>\n",
       "      <td>male</td>\n",
       "      <td>work for a multinational corporation</td>\n",
       "      <td>in an office with other developers</td>\n",
       "      <td>married or domestic partnership</td>\n",
       "      <td>200000.0</td>\n",
       "    </tr>\n",
       "    <tr>\n",
       "      <th>15598</th>\n",
       "      <td>food and beverage</td>\n",
       "      <td>Employed for wages</td>\n",
       "      <td>male</td>\n",
       "      <td>work for a medium-sized company</td>\n",
       "      <td>from home</td>\n",
       "      <td>married or domestic partnership</td>\n",
       "      <td>200000.0</td>\n",
       "    </tr>\n",
       "    <tr>\n",
       "      <th>15616</th>\n",
       "      <td>software development and IT</td>\n",
       "      <td>Employed for wages</td>\n",
       "      <td>male</td>\n",
       "      <td>work for a startup</td>\n",
       "      <td>in an office with other developers</td>\n",
       "      <td>single, never married</td>\n",
       "      <td>10000.0</td>\n",
       "    </tr>\n",
       "  </tbody>\n",
       "</table>\n",
       "<p>764 rows × 7 columns</p>\n",
       "</div>"
      ],
      "text/plain": [
       "                             EmploymentField    EmploymentStatus Gender                               JobPref                        JobWherePref                    MaritalStatus    Income\n",
       "59                      software development  Employed for wages   male       work for a medium-sized company  in an office with other developers  married or domestic partnership   35000.0\n",
       "71                                 education  Employed for wages   male  work for a multinational corporation                           from home  married or domestic partnership   56000.0\n",
       "72                            transportation  Employed for wages   male       work for a medium-sized company                           from home  married or domestic partnership   35000.0\n",
       "77     arts, entertainment, sports, or media  Employed for wages   male       work for a medium-sized company                           from home  married or domestic partnership   65000.0\n",
       "90                                     sales  Employed for wages   male                    work for a startup  in an office with other developers            single, never married   30000.0\n",
       "...                                      ...                 ...    ...                                   ...                                 ...                              ...       ...\n",
       "15564                                finance  Employed for wages   male       work for a medium-sized company  in an office with other developers  married or domestic partnership  200000.0\n",
       "15566                                finance  Employed for wages   male                    work for a startup                       no preference  married or domestic partnership  200000.0\n",
       "15584            software development and IT  Employed for wages   male  work for a multinational corporation  in an office with other developers  married or domestic partnership  200000.0\n",
       "15598                      food and beverage  Employed for wages   male       work for a medium-sized company                           from home  married or domestic partnership  200000.0\n",
       "15616            software development and IT  Employed for wages   male                    work for a startup  in an office with other developers            single, never married   10000.0\n",
       "\n",
       "[764 rows x 7 columns]"
      ]
     },
     "execution_count": 7,
     "metadata": {},
     "output_type": "execute_result"
    }
   ],
   "source": [
    "table2 = table.dropna()\n",
    "table2 = table2[(table2['Gender'] == 'male') | (table2['Gender'] == 'female')]\n",
    "table2"
   ]
  },
  {
   "cell_type": "markdown",
   "id": "e492bebc-ccb4-40f7-8dcb-8a74e7289923",
   "metadata": {},
   "source": [
    "# A"
   ]
  },
  {
   "cell_type": "code",
   "execution_count": 8,
   "id": "e6258f46-49da-4cd8-acb8-9c580a619f2c",
   "metadata": {},
   "outputs": [
    {
     "data": {
      "text/html": [
       "<div>\n",
       "<style scoped>\n",
       "    .dataframe tbody tr th:only-of-type {\n",
       "        vertical-align: middle;\n",
       "    }\n",
       "\n",
       "    .dataframe tbody tr th {\n",
       "        vertical-align: top;\n",
       "    }\n",
       "\n",
       "    .dataframe thead th {\n",
       "        text-align: right;\n",
       "    }\n",
       "</style>\n",
       "<table border=\"1\" class=\"dataframe\">\n",
       "  <thead>\n",
       "    <tr style=\"text-align: right;\">\n",
       "      <th>JobPref</th>\n",
       "      <th>work for a medium-sized company</th>\n",
       "      <th>work for a multinational corporation</th>\n",
       "      <th>work for a startup</th>\n",
       "      <th>All</th>\n",
       "    </tr>\n",
       "    <tr>\n",
       "      <th>Gender</th>\n",
       "      <th></th>\n",
       "      <th></th>\n",
       "      <th></th>\n",
       "      <th></th>\n",
       "    </tr>\n",
       "  </thead>\n",
       "  <tbody>\n",
       "    <tr>\n",
       "      <th>female</th>\n",
       "      <td>82</td>\n",
       "      <td>19</td>\n",
       "      <td>26</td>\n",
       "      <td>127</td>\n",
       "    </tr>\n",
       "    <tr>\n",
       "      <th>male</th>\n",
       "      <td>362</td>\n",
       "      <td>103</td>\n",
       "      <td>172</td>\n",
       "      <td>637</td>\n",
       "    </tr>\n",
       "    <tr>\n",
       "      <th>All</th>\n",
       "      <td>444</td>\n",
       "      <td>122</td>\n",
       "      <td>198</td>\n",
       "      <td>764</td>\n",
       "    </tr>\n",
       "  </tbody>\n",
       "</table>\n",
       "</div>"
      ],
      "text/plain": [
       "JobPref  work for a medium-sized company  work for a multinational corporation  work for a startup  All\n",
       "Gender                                                                                                 \n",
       "female                                82                                    19                  26  127\n",
       "male                                 362                                   103                 172  637\n",
       "All                                  444                                   122                 198  764"
      ]
     },
     "execution_count": 8,
     "metadata": {},
     "output_type": "execute_result"
    }
   ],
   "source": [
    "result = pd.crosstab(table2.Gender, table2.JobPref, margins=True)\n",
    "result"
   ]
  },
  {
   "cell_type": "code",
   "execution_count": 9,
   "id": "2658f620-065d-48df-b306-35b2b34e5316",
   "metadata": {},
   "outputs": [
    {
     "data": {
      "text/plain": [
       "array([[ 73.80628272,  20.28010471,  32.91361257],\n",
       "       [370.19371728, 101.71989529, 165.08638743]])"
      ]
     },
     "execution_count": 9,
     "metadata": {},
     "output_type": "execute_result"
    }
   ],
   "source": [
    "result = pd.crosstab(table2.Gender, table2.JobPref, margins=False)\n",
    "expected = scipy.stats.contingency.expected_freq(result)\n",
    "expected"
   ]
  },
  {
   "cell_type": "code",
   "execution_count": 10,
   "id": "cfca7cbf-c7da-44ae-9777-fde07dc2c14c",
   "metadata": {},
   "outputs": [
    {
     "name": "stdout",
     "output_type": "stream",
     "text": [
      "(2.9296663743177596, 0.2311165414688363, 2, array([[ 73.80628272,  20.28010471,  32.91361257],\n",
      "       [370.19371728, 101.71989529, 165.08638743]]))\n"
     ]
    }
   ],
   "source": [
    "print(scipy.stats.chi2_contingency(result, correction=False))"
   ]
  },
  {
   "cell_type": "markdown",
   "id": "573e1282-12d9-43e6-9ef1-a90fee6a1077",
   "metadata": {},
   "source": [
    "# B"
   ]
  },
  {
   "cell_type": "code",
   "execution_count": 11,
   "id": "084763c6-9c60-4559-a7b9-ef1d9e0699c4",
   "metadata": {},
   "outputs": [
    {
     "data": {
      "text/html": [
       "<div>\n",
       "<style scoped>\n",
       "    .dataframe tbody tr th:only-of-type {\n",
       "        vertical-align: middle;\n",
       "    }\n",
       "\n",
       "    .dataframe tbody tr th {\n",
       "        vertical-align: top;\n",
       "    }\n",
       "\n",
       "    .dataframe thead th {\n",
       "        text-align: right;\n",
       "    }\n",
       "</style>\n",
       "<table border=\"1\" class=\"dataframe\">\n",
       "  <thead>\n",
       "    <tr style=\"text-align: right;\">\n",
       "      <th>JobWherePref</th>\n",
       "      <th>from home</th>\n",
       "      <th>in an office with other developers</th>\n",
       "      <th>no preference</th>\n",
       "      <th>All</th>\n",
       "    </tr>\n",
       "    <tr>\n",
       "      <th>Gender</th>\n",
       "      <th></th>\n",
       "      <th></th>\n",
       "      <th></th>\n",
       "      <th></th>\n",
       "    </tr>\n",
       "  </thead>\n",
       "  <tbody>\n",
       "    <tr>\n",
       "      <th>female</th>\n",
       "      <td>38</td>\n",
       "      <td>57</td>\n",
       "      <td>32</td>\n",
       "      <td>127</td>\n",
       "    </tr>\n",
       "    <tr>\n",
       "      <th>male</th>\n",
       "      <td>149</td>\n",
       "      <td>317</td>\n",
       "      <td>171</td>\n",
       "      <td>637</td>\n",
       "    </tr>\n",
       "    <tr>\n",
       "      <th>All</th>\n",
       "      <td>187</td>\n",
       "      <td>374</td>\n",
       "      <td>203</td>\n",
       "      <td>764</td>\n",
       "    </tr>\n",
       "  </tbody>\n",
       "</table>\n",
       "</div>"
      ],
      "text/plain": [
       "JobWherePref  from home  in an office with other developers  no preference  All\n",
       "Gender                                                                         \n",
       "female               38                                  57             32  127\n",
       "male                149                                 317            171  637\n",
       "All                 187                                 374            203  764"
      ]
     },
     "execution_count": 11,
     "metadata": {},
     "output_type": "execute_result"
    }
   ],
   "source": [
    "result = pd.crosstab(table2.Gender, table2.JobWherePref, margins=True)\n",
    "result"
   ]
  },
  {
   "cell_type": "code",
   "execution_count": 12,
   "id": "77d65fde-163e-4317-ab8e-d93c7e5833ea",
   "metadata": {},
   "outputs": [
    {
     "data": {
      "text/plain": [
       "array([[ 31.08507853,  62.17015707,  33.7447644 ],\n",
       "       [155.91492147, 311.82984293, 169.2552356 ]])"
      ]
     },
     "execution_count": 12,
     "metadata": {},
     "output_type": "execute_result"
    }
   ],
   "source": [
    "result = pd.crosstab(table2.Gender, table2.JobWherePref, margins=False)\n",
    "expected = scipy.stats.contingency.expected_freq(result)\n",
    "expected"
   ]
  },
  {
   "cell_type": "code",
   "execution_count": 13,
   "id": "6ea666d3-29f3-4207-986e-469e3cf31d0d",
   "metadata": {},
   "outputs": [
    {
     "name": "stdout",
     "output_type": "stream",
     "text": [
      "(2.468792878230615, 0.29101035183846335, 2, array([[ 31.08507853,  62.17015707,  33.7447644 ],\n",
      "       [155.91492147, 311.82984293, 169.2552356 ]]))\n"
     ]
    }
   ],
   "source": [
    "print(scipy.stats.chi2_contingency(result, correction=False))"
   ]
  },
  {
   "cell_type": "markdown",
   "id": "bd8c63fe-5c27-43af-9ac7-9401d91d683c",
   "metadata": {},
   "source": [
    "# C"
   ]
  },
  {
   "cell_type": "code",
   "execution_count": 14,
   "id": "c4e3be06-aea1-407e-8567-d7443ccba7a8",
   "metadata": {},
   "outputs": [
    {
     "data": {
      "text/html": [
       "<div>\n",
       "<style scoped>\n",
       "    .dataframe tbody tr th:only-of-type {\n",
       "        vertical-align: middle;\n",
       "    }\n",
       "\n",
       "    .dataframe tbody tr th {\n",
       "        vertical-align: top;\n",
       "    }\n",
       "\n",
       "    .dataframe thead th {\n",
       "        text-align: right;\n",
       "    }\n",
       "</style>\n",
       "<table border=\"1\" class=\"dataframe\">\n",
       "  <thead>\n",
       "    <tr style=\"text-align: right;\">\n",
       "      <th>MaritalStatus</th>\n",
       "      <th>divorced</th>\n",
       "      <th>married or domestic partnership</th>\n",
       "      <th>separated</th>\n",
       "      <th>single, never married</th>\n",
       "      <th>All</th>\n",
       "    </tr>\n",
       "    <tr>\n",
       "      <th>JobWherePref</th>\n",
       "      <th></th>\n",
       "      <th></th>\n",
       "      <th></th>\n",
       "      <th></th>\n",
       "      <th></th>\n",
       "    </tr>\n",
       "  </thead>\n",
       "  <tbody>\n",
       "    <tr>\n",
       "      <th>from home</th>\n",
       "      <td>12</td>\n",
       "      <td>153</td>\n",
       "      <td>2</td>\n",
       "      <td>20</td>\n",
       "      <td>187</td>\n",
       "    </tr>\n",
       "    <tr>\n",
       "      <th>in an office with other developers</th>\n",
       "      <td>14</td>\n",
       "      <td>291</td>\n",
       "      <td>2</td>\n",
       "      <td>67</td>\n",
       "      <td>374</td>\n",
       "    </tr>\n",
       "    <tr>\n",
       "      <th>no preference</th>\n",
       "      <td>11</td>\n",
       "      <td>149</td>\n",
       "      <td>4</td>\n",
       "      <td>39</td>\n",
       "      <td>203</td>\n",
       "    </tr>\n",
       "    <tr>\n",
       "      <th>All</th>\n",
       "      <td>37</td>\n",
       "      <td>593</td>\n",
       "      <td>8</td>\n",
       "      <td>126</td>\n",
       "      <td>764</td>\n",
       "    </tr>\n",
       "  </tbody>\n",
       "</table>\n",
       "</div>"
      ],
      "text/plain": [
       "MaritalStatus                       divorced  married or domestic partnership  separated  single, never married  All\n",
       "JobWherePref                                                                                                        \n",
       "from home                                 12                              153          2                     20  187\n",
       "in an office with other developers        14                              291          2                     67  374\n",
       "no preference                             11                              149          4                     39  203\n",
       "All                                       37                              593          8                    126  764"
      ]
     },
     "execution_count": 14,
     "metadata": {},
     "output_type": "execute_result"
    }
   ],
   "source": [
    "result = pd.crosstab(table2.JobWherePref, table2.MaritalStatus, margins=True)\n",
    "result"
   ]
  },
  {
   "cell_type": "code",
   "execution_count": 15,
   "id": "9c2a0411-8169-402d-891f-4dca84ddcc19",
   "metadata": {},
   "outputs": [
    {
     "data": {
      "text/plain": [
       "array([[  9.05628272, 145.14528796,   1.95811518,  30.84031414],\n",
       "       [ 18.11256545, 290.29057592,   3.91623037,  61.68062827],\n",
       "       [  9.83115183, 157.56413613,   2.12565445,  33.47905759]])"
      ]
     },
     "execution_count": 15,
     "metadata": {},
     "output_type": "execute_result"
    }
   ],
   "source": [
    "result = pd.crosstab(table2.JobWherePref, table2.MaritalStatus, margins=False)\n",
    "expected = scipy.stats.contingency.expected_freq(result)\n",
    "expected"
   ]
  },
  {
   "cell_type": "code",
   "execution_count": 16,
   "id": "899c34c2-60e1-4883-9fea-3288ced2c212",
   "metadata": {},
   "outputs": [
    {
     "name": "stdout",
     "output_type": "stream",
     "text": [
      "\n",
      "\r\n",
      "\tFisher's Exact Test for Count Data\n",
      "\r\n",
      "\n",
      "\r\n",
      "data:  \n",
      "\r\n",
      "p-value = 0.06912\n",
      "\r\n",
      "alternative hypothesis: two.sided\n",
      "\r\n",
      "\n",
      "\n"
     ]
    }
   ],
   "source": [
    "rpy2.robjects.numpy2ri.activate()\n",
    "stats= importr('stats')\n",
    "m = np.array(result.values)\n",
    "res = stats.fisher_test(m)\n",
    "print(res)"
   ]
  },
  {
   "cell_type": "markdown",
   "id": "a3cec740-8113-48b4-881d-709a5e0ee848",
   "metadata": {},
   "source": [
    "# D"
   ]
  },
  {
   "cell_type": "code",
   "execution_count": 17,
   "id": "023d6b03-c1f7-40e6-b482-aa335ecc7646",
   "metadata": {},
   "outputs": [
    {
     "data": {
      "text/html": [
       "<div>\n",
       "<style scoped>\n",
       "    .dataframe tbody tr th:only-of-type {\n",
       "        vertical-align: middle;\n",
       "    }\n",
       "\n",
       "    .dataframe tbody tr th {\n",
       "        vertical-align: top;\n",
       "    }\n",
       "\n",
       "    .dataframe thead th {\n",
       "        text-align: right;\n",
       "    }\n",
       "</style>\n",
       "<table border=\"1\" class=\"dataframe\">\n",
       "  <thead>\n",
       "    <tr style=\"text-align: right;\">\n",
       "      <th>JobWherePref</th>\n",
       "      <th>from home</th>\n",
       "      <th>in an office with other developers</th>\n",
       "      <th>no preference</th>\n",
       "      <th>All</th>\n",
       "    </tr>\n",
       "    <tr>\n",
       "      <th>EmploymentField</th>\n",
       "      <th></th>\n",
       "      <th></th>\n",
       "      <th></th>\n",
       "      <th></th>\n",
       "    </tr>\n",
       "  </thead>\n",
       "  <tbody>\n",
       "    <tr>\n",
       "      <th>architecture or physical engineering</th>\n",
       "      <td>8</td>\n",
       "      <td>15</td>\n",
       "      <td>4</td>\n",
       "      <td>27</td>\n",
       "    </tr>\n",
       "    <tr>\n",
       "      <th>arts, entertainment, sports, or media</th>\n",
       "      <td>17</td>\n",
       "      <td>25</td>\n",
       "      <td>7</td>\n",
       "      <td>49</td>\n",
       "    </tr>\n",
       "    <tr>\n",
       "      <th>construction and extraction</th>\n",
       "      <td>1</td>\n",
       "      <td>11</td>\n",
       "      <td>4</td>\n",
       "      <td>16</td>\n",
       "    </tr>\n",
       "    <tr>\n",
       "      <th>education</th>\n",
       "      <td>29</td>\n",
       "      <td>46</td>\n",
       "      <td>26</td>\n",
       "      <td>101</td>\n",
       "    </tr>\n",
       "    <tr>\n",
       "      <th>farming, fishing, and forestry</th>\n",
       "      <td>1</td>\n",
       "      <td>1</td>\n",
       "      <td>1</td>\n",
       "      <td>3</td>\n",
       "    </tr>\n",
       "    <tr>\n",
       "      <th>finance</th>\n",
       "      <td>8</td>\n",
       "      <td>27</td>\n",
       "      <td>8</td>\n",
       "      <td>43</td>\n",
       "    </tr>\n",
       "    <tr>\n",
       "      <th>food and beverage</th>\n",
       "      <td>9</td>\n",
       "      <td>13</td>\n",
       "      <td>10</td>\n",
       "      <td>32</td>\n",
       "    </tr>\n",
       "    <tr>\n",
       "      <th>health care</th>\n",
       "      <td>10</td>\n",
       "      <td>18</td>\n",
       "      <td>14</td>\n",
       "      <td>42</td>\n",
       "    </tr>\n",
       "    <tr>\n",
       "      <th>law enforcement and fire and rescue</th>\n",
       "      <td>1</td>\n",
       "      <td>4</td>\n",
       "      <td>2</td>\n",
       "      <td>7</td>\n",
       "    </tr>\n",
       "    <tr>\n",
       "      <th>legal</th>\n",
       "      <td>2</td>\n",
       "      <td>3</td>\n",
       "      <td>2</td>\n",
       "      <td>7</td>\n",
       "    </tr>\n",
       "    <tr>\n",
       "      <th>office and administrative support</th>\n",
       "      <td>14</td>\n",
       "      <td>33</td>\n",
       "      <td>23</td>\n",
       "      <td>70</td>\n",
       "    </tr>\n",
       "    <tr>\n",
       "      <th>sales</th>\n",
       "      <td>11</td>\n",
       "      <td>22</td>\n",
       "      <td>16</td>\n",
       "      <td>49</td>\n",
       "    </tr>\n",
       "    <tr>\n",
       "      <th>software development</th>\n",
       "      <td>0</td>\n",
       "      <td>4</td>\n",
       "      <td>0</td>\n",
       "      <td>4</td>\n",
       "    </tr>\n",
       "    <tr>\n",
       "      <th>software development and IT</th>\n",
       "      <td>69</td>\n",
       "      <td>143</td>\n",
       "      <td>82</td>\n",
       "      <td>294</td>\n",
       "    </tr>\n",
       "    <tr>\n",
       "      <th>transportation</th>\n",
       "      <td>7</td>\n",
       "      <td>9</td>\n",
       "      <td>4</td>\n",
       "      <td>20</td>\n",
       "    </tr>\n",
       "    <tr>\n",
       "      <th>All</th>\n",
       "      <td>187</td>\n",
       "      <td>374</td>\n",
       "      <td>203</td>\n",
       "      <td>764</td>\n",
       "    </tr>\n",
       "  </tbody>\n",
       "</table>\n",
       "</div>"
      ],
      "text/plain": [
       "JobWherePref                           from home  in an office with other developers  no preference  All\n",
       "EmploymentField                                                                                         \n",
       "architecture or physical engineering           8                                  15              4   27\n",
       "arts, entertainment, sports, or media         17                                  25              7   49\n",
       "construction and extraction                    1                                  11              4   16\n",
       "education                                     29                                  46             26  101\n",
       "farming, fishing, and forestry                 1                                   1              1    3\n",
       "finance                                        8                                  27              8   43\n",
       "food and beverage                              9                                  13             10   32\n",
       "health care                                   10                                  18             14   42\n",
       "law enforcement and fire and rescue            1                                   4              2    7\n",
       "legal                                          2                                   3              2    7\n",
       "office and administrative support             14                                  33             23   70\n",
       "sales                                         11                                  22             16   49\n",
       "software development                           0                                   4              0    4\n",
       "software development and IT                   69                                 143             82  294\n",
       "transportation                                 7                                   9              4   20\n",
       "All                                          187                                 374            203  764"
      ]
     },
     "execution_count": 17,
     "metadata": {},
     "output_type": "execute_result"
    }
   ],
   "source": [
    "result = pd.crosstab(table2.EmploymentField, table2.JobWherePref, margins=True)\n",
    "result"
   ]
  },
  {
   "cell_type": "code",
   "execution_count": 18,
   "id": "77fde6d7-0711-4492-a77c-5721ec4ef6e6",
   "metadata": {},
   "outputs": [
    {
     "data": {
      "text/plain": [
       "array([[  6.60863874,  13.21727749,   7.17408377],\n",
       "       [ 11.9934555 ,  23.98691099,  13.01963351],\n",
       "       [  3.91623037,   7.83246073,   4.2513089 ],\n",
       "       [ 24.72120419,  49.44240838,  26.83638743],\n",
       "       [  0.73429319,   1.46858639,   0.79712042],\n",
       "       [ 10.52486911,  21.04973822,  11.42539267],\n",
       "       [  7.83246073,  15.66492147,   8.5026178 ],\n",
       "       [ 10.28010471,  20.56020942,  11.15968586],\n",
       "       [  1.71335079,   3.42670157,   1.85994764],\n",
       "       [  1.71335079,   3.42670157,   1.85994764],\n",
       "       [ 17.13350785,  34.26701571,  18.59947644],\n",
       "       [ 11.9934555 ,  23.98691099,  13.01963351],\n",
       "       [  0.97905759,   1.95811518,   1.06282723],\n",
       "       [ 71.96073298, 143.92146597,  78.11780105],\n",
       "       [  4.89528796,   9.79057592,   5.31413613]])"
      ]
     },
     "execution_count": 18,
     "metadata": {},
     "output_type": "execute_result"
    }
   ],
   "source": [
    "result = pd.crosstab(table2.EmploymentField, table2.JobWherePref, margins=False)\n",
    "expected = scipy.stats.contingency.expected_freq(result)\n",
    "expected"
   ]
  },
  {
   "cell_type": "code",
   "execution_count": 19,
   "id": "20f48c25-a64c-4474-a334-0c012fefb6e5",
   "metadata": {},
   "outputs": [
    {
     "name": "stdout",
     "output_type": "stream",
     "text": [
      "\n",
      "\r\n",
      "\tFisher's Exact Test for Count Data with simulated p-value (based on\n",
      "\r\n",
      "\t2000 replicates)\n",
      "\r\n",
      "\n",
      "\r\n",
      "data:  \n",
      "\r\n",
      "p-value = 0.5897\n",
      "\r\n",
      "alternative hypothesis: two.sided\n",
      "\r\n",
      "\n",
      "\n"
     ]
    }
   ],
   "source": [
    "rpy2.robjects.numpy2ri.activate()\n",
    "stats= importr('stats')\n",
    "m = np.array(result.values)\n",
    "res = stats.fisher_test(m, simulate_p_value=True)\n",
    "print(res)"
   ]
  },
  {
   "cell_type": "markdown",
   "id": "291f6abe-f808-4810-9d56-05c1869894ed",
   "metadata": {},
   "source": [
    "# E"
   ]
  },
  {
   "cell_type": "code",
   "execution_count": 20,
   "id": "92ab8235-07c8-4e1b-9494-bbeb41db4735",
   "metadata": {},
   "outputs": [
    {
     "data": {
      "text/html": [
       "<div>\n",
       "<style scoped>\n",
       "    .dataframe tbody tr th:only-of-type {\n",
       "        vertical-align: middle;\n",
       "    }\n",
       "\n",
       "    .dataframe tbody tr th {\n",
       "        vertical-align: top;\n",
       "    }\n",
       "\n",
       "    .dataframe thead th {\n",
       "        text-align: right;\n",
       "    }\n",
       "</style>\n",
       "<table border=\"1\" class=\"dataframe\">\n",
       "  <thead>\n",
       "    <tr style=\"text-align: right;\">\n",
       "      <th>JobWherePref</th>\n",
       "      <th>from home</th>\n",
       "      <th>in an office with other developers</th>\n",
       "      <th>no preference</th>\n",
       "      <th>All</th>\n",
       "    </tr>\n",
       "    <tr>\n",
       "      <th>EmploymentStatus</th>\n",
       "      <th></th>\n",
       "      <th></th>\n",
       "      <th></th>\n",
       "      <th></th>\n",
       "    </tr>\n",
       "  </thead>\n",
       "  <tbody>\n",
       "    <tr>\n",
       "      <th>Employed for wages</th>\n",
       "      <td>164</td>\n",
       "      <td>330</td>\n",
       "      <td>187</td>\n",
       "      <td>681</td>\n",
       "    </tr>\n",
       "    <tr>\n",
       "      <th>Self-employed business owner</th>\n",
       "      <td>5</td>\n",
       "      <td>10</td>\n",
       "      <td>4</td>\n",
       "      <td>19</td>\n",
       "    </tr>\n",
       "    <tr>\n",
       "      <th>Self-employed freelancer</th>\n",
       "      <td>18</td>\n",
       "      <td>34</td>\n",
       "      <td>12</td>\n",
       "      <td>64</td>\n",
       "    </tr>\n",
       "    <tr>\n",
       "      <th>All</th>\n",
       "      <td>187</td>\n",
       "      <td>374</td>\n",
       "      <td>203</td>\n",
       "      <td>764</td>\n",
       "    </tr>\n",
       "  </tbody>\n",
       "</table>\n",
       "</div>"
      ],
      "text/plain": [
       "JobWherePref                  from home  in an office with other developers  no preference  All\n",
       "EmploymentStatus                                                                               \n",
       "Employed for wages                  164                                 330            187  681\n",
       "Self-employed business owner          5                                  10              4   19\n",
       "Self-employed freelancer             18                                  34             12   64\n",
       "All                                 187                                 374            203  764"
      ]
     },
     "execution_count": 20,
     "metadata": {},
     "output_type": "execute_result"
    }
   ],
   "source": [
    "result = pd.crosstab(table2.EmploymentStatus, table2.JobWherePref, margins=True)\n",
    "result"
   ]
  },
  {
   "cell_type": "code",
   "execution_count": 21,
   "id": "5ec1f936-2da6-45a7-b71a-0f6e409d1b18",
   "metadata": {},
   "outputs": [
    {
     "data": {
      "text/plain": [
       "array([[166.68455497, 333.36910995, 180.94633508],\n",
       "       [  4.65052356,   9.30104712,   5.04842932],\n",
       "       [ 15.66492147,  31.32984293,  17.0052356 ]])"
      ]
     },
     "execution_count": 21,
     "metadata": {},
     "output_type": "execute_result"
    }
   ],
   "source": [
    "result = pd.crosstab(table2.EmploymentStatus, table2.JobWherePref, margins=False)\n",
    "expected = scipy.stats.contingency.expected_freq(result)\n",
    "expected"
   ]
  },
  {
   "cell_type": "code",
   "execution_count": 22,
   "id": "3673470b-5553-4335-91da-ee0dd61a6941",
   "metadata": {},
   "outputs": [
    {
     "name": "stdout",
     "output_type": "stream",
     "text": [
      "\n",
      "\r\n",
      "\tFisher's Exact Test for Count Data\n",
      "\r\n",
      "\n",
      "\r\n",
      "data:  \n",
      "\r\n",
      "p-value = 0.6163\n",
      "\r\n",
      "alternative hypothesis: two.sided\n",
      "\r\n",
      "\n",
      "\n"
     ]
    }
   ],
   "source": [
    "rpy2.robjects.numpy2ri.activate()\n",
    "stats= importr('stats')\n",
    "m = np.array(result.values)\n",
    "res = stats.fisher_test(m)\n",
    "print(res)"
   ]
  },
  {
   "cell_type": "markdown",
   "id": "a55a0cec-63b9-4ac9-96c4-e658f2bbaf4a",
   "metadata": {},
   "source": [
    "# Работа с INCOME"
   ]
  },
  {
   "cell_type": "code",
   "execution_count": 23,
   "id": "51ddcd96-0969-489a-905d-5ffd7ae808c2",
   "metadata": {},
   "outputs": [],
   "source": [
    "income_array = table2.Income.to_numpy(dtype=np.float64)\n",
    "nomin_income = []\n",
    "for x in income_array:\n",
    "    if x<40000.0:\n",
    "        nomin_income.append('низкий')\n",
    "    elif x>40000.0 and x<100000.0:\n",
    "        nomin_income.append('средний')\n",
    "    else:\n",
    "        nomin_income.append('высокий')\n",
    "# income_array = np.array(nomin_income)\n",
    "table3 = table2.loc[:, ['EmploymentField', 'EmploymentStatus', 'Gender', 'JobPref', 'JobWherePref', 'MaritalStatus']]\n",
    "table3['Income']=nomin_income"
   ]
  },
  {
   "cell_type": "code",
   "execution_count": 24,
   "id": "a7a6e570-989d-443a-9b54-a22e9a1f8431",
   "metadata": {},
   "outputs": [
    {
     "data": {
      "text/html": [
       "<div>\n",
       "<style scoped>\n",
       "    .dataframe tbody tr th:only-of-type {\n",
       "        vertical-align: middle;\n",
       "    }\n",
       "\n",
       "    .dataframe tbody tr th {\n",
       "        vertical-align: top;\n",
       "    }\n",
       "\n",
       "    .dataframe thead th {\n",
       "        text-align: right;\n",
       "    }\n",
       "</style>\n",
       "<table border=\"1\" class=\"dataframe\">\n",
       "  <thead>\n",
       "    <tr style=\"text-align: right;\">\n",
       "      <th>Income</th>\n",
       "      <th>высокий</th>\n",
       "      <th>низкий</th>\n",
       "      <th>средний</th>\n",
       "      <th>All</th>\n",
       "    </tr>\n",
       "    <tr>\n",
       "      <th>Gender</th>\n",
       "      <th></th>\n",
       "      <th></th>\n",
       "      <th></th>\n",
       "      <th></th>\n",
       "    </tr>\n",
       "  </thead>\n",
       "  <tbody>\n",
       "    <tr>\n",
       "      <th>female</th>\n",
       "      <td>15</td>\n",
       "      <td>50</td>\n",
       "      <td>62</td>\n",
       "      <td>127</td>\n",
       "    </tr>\n",
       "    <tr>\n",
       "      <th>male</th>\n",
       "      <td>78</td>\n",
       "      <td>284</td>\n",
       "      <td>275</td>\n",
       "      <td>637</td>\n",
       "    </tr>\n",
       "    <tr>\n",
       "      <th>All</th>\n",
       "      <td>93</td>\n",
       "      <td>334</td>\n",
       "      <td>337</td>\n",
       "      <td>764</td>\n",
       "    </tr>\n",
       "  </tbody>\n",
       "</table>\n",
       "</div>"
      ],
      "text/plain": [
       "Income  высокий  низкий  средний  All\n",
       "Gender                               \n",
       "female       15      50       62  127\n",
       "male         78     284      275  637\n",
       "All          93     334      337  764"
      ]
     },
     "execution_count": 24,
     "metadata": {},
     "output_type": "execute_result"
    }
   ],
   "source": [
    "result = pd.crosstab(table3.Gender, table3.Income, margins=True)\n",
    "result"
   ]
  },
  {
   "cell_type": "code",
   "execution_count": 25,
   "id": "41abc30c-2d8c-4dc9-a0bb-f71f7c1a2678",
   "metadata": {},
   "outputs": [
    {
     "data": {
      "text/plain": [
       "array([[ 15.45942408,  55.52094241,  56.01963351],\n",
       "       [ 77.54057592, 278.47905759, 280.98036649]])"
      ]
     },
     "execution_count": 25,
     "metadata": {},
     "output_type": "execute_result"
    }
   ],
   "source": [
    "result = pd.crosstab(table3.Gender, table3.Income, margins=False)\n",
    "expected = scipy.stats.contingency.expected_freq(result)\n",
    "expected"
   ]
  },
  {
   "cell_type": "code",
   "execution_count": 26,
   "id": "08e31b74-f4ff-48c1-a2ca-6fcb56cf4dde",
   "metadata": {},
   "outputs": [
    {
     "name": "stdout",
     "output_type": "stream",
     "text": [
      "(1.4405450772185862, 0.48661961525274, 2, array([[ 15.45942408,  55.52094241,  56.01963351],\n",
      "       [ 77.54057592, 278.47905759, 280.98036649]]))\n"
     ]
    }
   ],
   "source": [
    "print(scipy.stats.chi2_contingency(result, correction=True))"
   ]
  },
  {
   "cell_type": "code",
   "execution_count": null,
   "id": "58851f23",
   "metadata": {},
   "outputs": [],
   "source": []
  }
 ],
 "metadata": {
  "kernelspec": {
   "display_name": "Python 3 (ipykernel)",
   "language": "python",
   "name": "python3"
  },
  "language_info": {
   "codemirror_mode": {
    "name": "ipython",
    "version": 3
   },
   "file_extension": ".py",
   "mimetype": "text/x-python",
   "name": "python",
   "nbconvert_exporter": "python",
   "pygments_lexer": "ipython3",
   "version": "3.7.11"
  }
 },
 "nbformat": 4,
 "nbformat_minor": 5
}
